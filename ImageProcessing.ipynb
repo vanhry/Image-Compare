{
 "cells": [
  {
   "cell_type": "code",
   "execution_count": 6,
   "metadata": {},
   "outputs": [],
   "source": [
    "import os\n",
    "from PIL import Image\n",
    "import numpy as np\n",
    "import matplotlib.pyplot as plt\n",
    "%matplotlib inline\n"
   ]
  },
  {
   "cell_type": "code",
   "execution_count": 8,
   "metadata": {},
   "outputs": [],
   "source": [
    "dataset = 'dev_dataset'"
   ]
  },
  {
   "cell_type": "code",
   "execution_count": 9,
   "metadata": {},
   "outputs": [
    {
     "data": {
      "text/plain": [
       "['1.jpg',\n",
       " '10.jpg',\n",
       " '11.jpg',\n",
       " '11_duplicate.jpg',\n",
       " '11_modification.jpg',\n",
       " '12.jpg',\n",
       " '13.jpg',\n",
       " '14.jpg',\n",
       " '15.jpg',\n",
       " '15_modification.jpg',\n",
       " '16.jpg',\n",
       " '1_duplicate.jpg',\n",
       " '2.jpg',\n",
       " '3.jpg',\n",
       " '4.jpg',\n",
       " '4_similar.jpg',\n",
       " '6.jpg',\n",
       " '6_similar.jpg',\n",
       " '8.jpg']"
      ]
     },
     "execution_count": 9,
     "metadata": {},
     "output_type": "execute_result"
    }
   ],
   "source": [
    "os.listdir(dataset)"
   ]
  },
  {
   "cell_type": "code",
   "execution_count": 10,
   "metadata": {},
   "outputs": [],
   "source": [
    "class ImageCategorizer:\n",
    "    \n",
    "    def __init__(self, path, hash_size=8, quantize=16):\n",
    "        self.image_path = path\n",
    "        self.PilImage = Image.open(path)\n",
    "        self.np_array = np.asarray(self.PilImage)\n",
    "        self.hash_size = hash_size\n",
    "        self.quantize = quantize    \n",
    "\n",
    "    @property\n",
    "    def avg_hash(self):\n",
    "        \"\"\"\n",
    "        return binary hash of image using average of pixels\n",
    "        \n",
    "        Arguments:\n",
    "        hash_size - size of downsize image to create hash\n",
    "        \n",
    "        Return:\n",
    "        bin_hash - numpy array with shape (hash_size**2, )\n",
    "        \"\"\"\n",
    "        image = self.PilImage.convert(\"L\").resize((self.hash_size, self.hash_size), Image.ANTIALIAS)\n",
    "        pixels = np.asarray(image)\n",
    "        avg = pixels.mean()\n",
    "        bin_hash = pixels > avg\n",
    "        return bin_hash.ravel()\n",
    "    \n",
    "    @property\n",
    "    def hist_hash(self):\n",
    "        array = np.histogram(self.np_array.flatten(),bins=self.quantize)[0]\n",
    "        #x = np.histogram(self.np_array.flatten(),bins=self.quantize)[1]\n",
    "        return array\n",
    "        #threshhold = np.median(array)\n",
    "        #return np.where(array>threshhold,True,False)\n",
    "    \n",
    "    def __eq__(self, other):\n",
    "        \"\"\"\n",
    "        Compare all pixels of image\n",
    "        \n",
    "        Arguments:\n",
    "        other - ImageCategorizer object\n",
    "        \n",
    "        Returns:\n",
    "        Result of compare\n",
    "        \"\"\"\n",
    "        return np.array_equal(self.np_array, other.np_array)\n",
    "    \n",
    "    def compare_hist_hash(self, other):\n",
    "        \n",
    "        if np.count_nonzero(rankdata(hash0.hist_hash) == rankdata(hash0_2.hist_hash)) >= self.quantize//2:\n",
    "            return True\n",
    "        else:\n",
    "            return False\n",
    "    \n",
    "    def compare_avg_hash(self, other):\n",
    "        \"\"\"\n",
    "        Compare hash of image\n",
    "        \n",
    "        Arguments:\n",
    "        other - ImageCategorizer object\n",
    "        \n",
    "        Returns:\n",
    "        Result of compare\n",
    "        \"\"\"\n",
    "        return np.count_nonzero(self.avg_hash != other.avg_hash)\n",
    "    \n",
    "                               \n",
    "    def __str__(self):\n",
    "        \"\"\"\n",
    "        Represent '1101' instead of [True,True,False,True]\n",
    "        \"\"\"\n",
    "        return ''.join([pixel.astype('int').astype('str') for pixel in self.avg_hash.ravel()])"
   ]
  },
  {
   "cell_type": "code",
   "execution_count": 6,
   "metadata": {},
   "outputs": [
    {
     "name": "stdout",
     "output_type": "stream",
     "text": [
      "1.jpg               0001110001001000011000001111001001111010000110000000110000000000\n",
      "\n",
      "10.jpg              1111111111111111011000110000001100000011010001110000011000000110\n",
      "\n",
      "11.jpg              0001100010011101011100101111001101011101010011101100010100000000\n",
      "\n",
      "11_duplicate.jpg    0001100010011101011100101111001101011101010011101100010100000000\n",
      "\n",
      "11_modification.jpg 0001100010011101011100101111001101011101010011101100010100000000\n",
      "\n",
      "12.jpg              0100010011011001110001001111011011111101111110000111010001000000\n",
      "\n",
      "13.jpg              1111111111111111100000010000000110001111110011110000111110001111\n",
      "\n",
      "14.jpg              1111111100111111001111110000000000000000000000000000000010000000\n",
      "\n",
      "15.jpg              1110000000000011001000111100001110000011000001111000111111011111\n",
      "\n",
      "15_modification.jpg 1110000000000011001000111100001110000011000001111000111111011111\n",
      "\n",
      "16.jpg              1110000011100000111000001110000011111000111100001110000011100000\n",
      "\n",
      "1_duplicate.jpg     0001110001001000011000001111001001111010000110000000110000000000\n",
      "\n",
      "2.jpg               1111111111111111111001111110001100000011000000110000001100000111\n",
      "\n",
      "3.jpg               1111110011111100011111000011110000011000000110000000000000000000\n",
      "\n",
      "4.jpg               0000000011000110110001101111110111111000001110000001000000000000\n",
      "\n",
      "4_similar.jpg       0000000011100010111000111111110011111000000110000001100000000000\n",
      "\n",
      "6.jpg               1111111110111111000111110001000100000000100000000000000001100000\n",
      "\n",
      "6_similar.jpg       1111111110111111000111110001000100000000100000000000000001000000\n",
      "\n",
      "8.jpg               0000000000000000000000010000001110000010100111101111111111111111\n",
      "\n"
     ]
    }
   ],
   "source": [
    "for i in os.listdir(dataset):\n",
    "    im = ImageCategorizer(os.path.join(dataset,i))\n",
    "    print(i,end=' '*(len(max(os.listdir(dataset),key=lambda x: len(x)))-len(i)+1))\n",
    "    print(im)\n",
    "    print('')"
   ]
  },
  {
   "cell_type": "code",
   "execution_count": 153,
   "metadata": {},
   "outputs": [
    {
     "name": "stdout",
     "output_type": "stream",
     "text": [
      "1.jpg 1_duplicate.jpg\n",
      "11.jpg 11_duplicate.jpg\n",
      "11.jpg 11_modification.jpg\n",
      "11_modification.jpg 11_duplicate.jpg\n",
      "15.jpg 15_modification.jpg\n",
      "4.jpg 4_similar.jpg\n",
      "6.jpg 6_similar.jpg\n",
      "Wall time: 1min 50s\n"
     ]
    }
   ],
   "source": [
    "%%time\n",
    "def avg_hash(img):\n",
    "        \"\"\"\n",
    "        return binary hash of image using average of pixels\n",
    "        \n",
    "        Arguments:\n",
    "        hash_size - size of downsize image to create hash\n",
    "        \n",
    "        Return:\n",
    "        bin_hash - numpy array with shape (hash_size**2, )\n",
    "        \"\"\"\n",
    "        image = img.convert(\"L\").resize((8, 8), Image.ANTIALIAS)\n",
    "        pixels = np.asarray(image)\n",
    "        avg = pixels.mean()\n",
    "        bin_hash = pixels > avg\n",
    "        return bin_hash.ravel()\n",
    "    \n",
    "def compare_avg_hash(one, other):\n",
    "        \"\"\"\n",
    "        Compare hash of image\n",
    "        \n",
    "        Arguments:\n",
    "        other - ImageCategorizer object\n",
    "        \n",
    "        Returns:\n",
    "        Result of compare\n",
    "        \"\"\"\n",
    "        return np.count_nonzero(avg_hash(one) != avg_hash(other))\n",
    "    \n",
    "def hist_hash(img):\n",
    "        return np.histogram(np.asarray(img).flatten(),bins=16)[0]\n",
    "        \n",
    "all_images = os.listdir(dataset)\n",
    "for filename in all_images:\n",
    "    current = Image.open(os.path.join(dataset,filename))\n",
    "    for other_file in all_images:\n",
    "        compare = Image.open(os.path.join(dataset,other_file))\n",
    "        if filename == other_file:\n",
    "            continue\n",
    "        elif np.array_equal(current,compare):\n",
    "            print(filename, other_file)\n",
    "        elif compare_avg_hash(current,compare) == 0:\n",
    "            print(filename, other_file)\n",
    "        elif np.array_equal(findpeaks(hist_hash(current)),findpeaks(hist_hash(compare))): # \\\n",
    "                #and np.array_equal(np.argsort(findpeaks(hist_hash(current))),np.argsort(findpeaks(hist_hash(compare)))):\n",
    "            print(filename,  other_file)\n",
    "    all_images.remove(filename)"
   ]
  },
  {
   "cell_type": "code",
   "execution_count": 30,
   "metadata": {},
   "outputs": [
    {
     "name": "stdout",
     "output_type": "stream",
     "text": [
      "Wall time: 688 ms\n"
     ]
    }
   ],
   "source": [
    "%%time\n",
    "hash0 = ImageCategorizer(os.path.join(dataset,'4.jpg'))\n",
    "hash0_2 = ImageCategorizer(os.path.join(dataset,'4_similar.jpg'))\n",
    "hash1 = ImageCategorizer(os.path.join(dataset,'16.jpg'))\n",
    "\n",
    "hash1 = ImageCategorizer(os.path.join(dataset,'11.jpg'))\n",
    "hash1_2 = ImageCategorizer(os.path.join(dataset,'11_modification.jpg'))"
   ]
  },
  {
   "cell_type": "code",
   "execution_count": 36,
   "metadata": {},
   "outputs": [
    {
     "data": {
      "text/plain": [
       "<matplotlib.image.AxesImage at 0x235536c4f98>"
      ]
     },
     "execution_count": 36,
     "metadata": {},
     "output_type": "execute_result"
    },
    {
     "data": {
      "image/png": "[encoded data removed]",
      "text/plain": [
       "<Figure size 432x288 with 1 Axes>"
      ]
     },
     "metadata": {},
     "output_type": "display_data"
    }
   ],
   "source": [
    "plt.imshow(np.reshape(hash1.avg_hash,(8,8)))"
   ]
  },
  {
   "cell_type": "code",
   "execution_count": 37,
   "metadata": {},
   "outputs": [
    {
     "data": {
      "text/plain": [
       "<matplotlib.image.AxesImage at 0x23557c0c898>"
      ]
     },
     "execution_count": 37,
     "metadata": {},
     "output_type": "execute_result"
    },
    {
     "data": {
      "image/png": "[encoded data removed]",
      "text/plain": [
       "<Figure size 432x288 with 1 Axes>"
      ]
     },
     "metadata": {},
     "output_type": "display_data"
    }
   ],
   "source": [
    "plt.imshow(np.reshape(hash1_2.avg_hash,(8,8)))"
   ]
  },
  {
   "cell_type": "code",
   "execution_count": null,
   "metadata": {},
   "outputs": [],
   "source": []
  },
  {
   "cell_type": "code",
   "execution_count": 13,
   "metadata": {},
   "outputs": [
    {
     "name": "stdout",
     "output_type": "stream",
     "text": [
      "(array([  77680.,   73328.,  544363., 1092533.,  535150.,   83604.,\n",
      "         89112.,   96841.,   85807.,  116842.,  147635.,  125824.,\n",
      "        100679.,   46996.,   23663.,   15261.]), array([  0.    ,  15.9375,  31.875 ,  47.8125,  63.75  ,  79.6875,\n",
      "        95.625 , 111.5625, 127.5   , 143.4375, 159.375 , 175.3125,\n",
      "       191.25  , 207.1875, 223.125 , 239.0625, 255.    ]), <a list of 16 Patch objects>)\n",
      "1092533.0\n",
      "15261.0\n",
      "92976.5\n"
     ]
    },
    {
     "data": {
      "image/png": "[encoded data removed]",
      "text/plain": [
       "<Figure size 432x288 with 1 Axes>"
      ]
     },
     "metadata": {},
     "output_type": "display_data"
    }
   ],
   "source": [
    "print(plt.hist(hash0.np_array.flatten(),bins=16))\n",
    "print(np.max(plt.hist(hash0.np_array.flatten(),bins=16)[0]))\n",
    "print(np.min(plt.hist(hash0.np_array.flatten(),bins=16)[0]))\n",
    "print(np.median(plt.hist(hash0.np_array.flatten(),bins=16)[0]))"
   ]
  },
  {
   "cell_type": "code",
   "execution_count": 14,
   "metadata": {
    "scrolled": false
   },
   "outputs": [
    {
     "name": "stdout",
     "output_type": "stream",
     "text": [
      "(array([6.164900e+06, 4.059030e+05, 9.389950e+05, 1.043491e+06,\n",
      "       9.362750e+05, 7.104840e+05, 5.061140e+05, 3.286620e+05,\n",
      "       1.651860e+05, 5.834300e+04, 1.789200e+04, 6.451000e+03,\n",
      "       3.047000e+03, 1.926000e+03, 1.109000e+03, 8.220000e+02]), array([  0.    ,  15.9375,  31.875 ,  47.8125,  63.75  ,  79.6875,\n",
      "        95.625 , 111.5625, 127.5   , 143.4375, 159.375 , 175.3125,\n",
      "       191.25  , 207.1875, 223.125 , 239.0625, 255.    ]), <a list of 16 Patch objects>)\n",
      "6164900.0\n",
      "822.0\n",
      "246924.0\n"
     ]
    },
    {
     "data": {
      "image/png": "[encoded data removed]",
      "text/plain": [
       "<Figure size 432x288 with 1 Axes>"
      ]
     },
     "metadata": {},
     "output_type": "display_data"
    }
   ],
   "source": [
    "print(plt.hist(hash1.np_array.flatten(),bins=16))\n",
    "print(np.max(plt.hist(hash1.np_array.flatten(),bins=16)[0]))\n",
    "print(np.min(plt.hist(hash1.np_array.flatten(),bins=16)[0]))\n",
    "print(np.median(plt.hist(hash1.np_array.flatten(),bins=16)[0]))"
   ]
  },
  {
   "cell_type": "code",
   "execution_count": 15,
   "metadata": {},
   "outputs": [
    {
     "name": "stdout",
     "output_type": "stream",
     "text": [
      "(array([ 82408.,  62189., 607302., 873672., 585120., 209165.,  88208.,\n",
      "        91405.,  76749., 101446., 131954., 121208., 106364.,  59838.,\n",
      "        35466.,  22824.]), array([  0.    ,  15.9375,  31.875 ,  47.8125,  63.75  ,  79.6875,\n",
      "        95.625 , 111.5625, 127.5   , 143.4375, 159.375 , 175.3125,\n",
      "       191.25  , 207.1875, 223.125 , 239.0625, 255.    ]), <a list of 16 Patch objects>)\n",
      "873672.0\n",
      "22824.0\n",
      "96425.5\n"
     ]
    },
    {
     "data": {
      "image/png": "[encoded data removed]",
      "text/plain": [
       "<Figure size 432x288 with 1 Axes>"
      ]
     },
     "metadata": {},
     "output_type": "display_data"
    }
   ],
   "source": [
    "print(plt.hist(hash0_2.np_array.flatten(),bins=16))\n",
    "print(np.max(plt.hist(hash0_2.np_array.flatten(),bins=16)[0]))\n",
    "print(np.min(plt.hist(hash0_2.np_array.flatten(),bins=16)[0]))\n",
    "print(np.median(plt.hist(hash0_2.np_array.flatten(),bins=16)[0]))"
   ]
  },
  {
   "cell_type": "code",
   "execution_count": 16,
   "metadata": {},
   "outputs": [],
   "source": [
    "def rgb2gray(rgb):\n",
    "    return np.dot(rgb[...,:3], [0.2989, 0.5870, 0.1140])"
   ]
  },
  {
   "cell_type": "code",
   "execution_count": 23,
   "metadata": {},
   "outputs": [
    {
     "data": {
      "image/png": "[encoded data removed]",
      "text/plain": [
       "<Figure size 432x288 with 1 Axes>"
      ]
     },
     "metadata": {},
     "output_type": "display_data"
    }
   ],
   "source": [
    "x = hash0.hist_hash\n",
    "peaks = findpeaks(x)\n",
    "plt.plot(x)\n",
    "plt.plot(peaks, x[peaks], \"x\")\n",
    "plt.plot(np.zeros_like(x), \"--\", color=\"gray\")\n",
    "plt.show()"
   ]
  },
  {
   "cell_type": "code",
   "execution_count": 24,
   "metadata": {},
   "outputs": [
    {
     "data": {
      "image/png": "[encoded data removed]",
      "text/plain": [
       "<Figure size 432x288 with 1 Axes>"
      ]
     },
     "metadata": {},
     "output_type": "display_data"
    }
   ],
   "source": [
    "x = hash0_2.hist_hash\n",
    "peaks = findpeaks(x)\n",
    "plt.plot(x)\n",
    "plt.plot(peaks, x[peaks], \"x\")\n",
    "plt.plot(np.zeros_like(x), \"--\", color=\"gray\")\n",
    "plt.show()"
   ]
  },
  {
   "cell_type": "code",
   "execution_count": 25,
   "metadata": {},
   "outputs": [
    {
     "data": {
      "image/png": "[encoded data removed]",
      "text/plain": [
       "<Figure size 432x288 with 1 Axes>"
      ]
     },
     "metadata": {},
     "output_type": "display_data"
    }
   ],
   "source": [
    "x = hash1.hist_hash\n",
    "peaks, _ = find_peaks(x)\n",
    "plt.plot(x)\n",
    "plt.plot(peaks, x[peaks], \"x\")\n",
    "plt.plot(np.zeros_like(x), \"--\", color=\"gray\")\n",
    "plt.show()"
   ]
  },
  {
   "cell_type": "code",
   "execution_count": 2,
   "metadata": {},
   "outputs": [],
   "source": [
    "def findpeaks(y):\n",
    "    \"\"\"\n",
    "    Generate the indices of the peaks in a data line\n",
    "\n",
    "    :param y: :class:`numpy.ndarray` histogram values\n",
    "    :return: :class:`numpy.ndarray` the index values of the ridges in the line\n",
    "    \"\"\"\n",
    "\n",
    "    dy = np.diff(y)\n",
    "\n",
    "    dy_2 = np.array(np.where(dy == 0))\n",
    "    if dy.size == dy_2.size:\n",
    "        return []\n",
    "\n",
    "    dy_a1 = np.append(dy, [0])\n",
    "    dy_a2 = np.append([1], dy)\n",
    "\n",
    "    index_a1 = np.array((dy_a1 <= 0).nonzero())\n",
    "    index_a2 = np.array((dy_a2 > 0).nonzero())\n",
    "\n",
    "    index = np.intersect1d(index_a1, index_a2)\n",
    "    if len(index) == 0:\n",
    "        return index\n",
    "\n",
    "    if index[0] == 0:\n",
    "        if dy[0] == 0:\n",
    "            nonzero_index = (dy != 0).nonzero()\n",
    "\n",
    "            if dy[nonzero_index[0][0]] > 0:\n",
    "                index = index[1:]\n",
    "\n",
    "    if index[-1] == np.size(y):\n",
    "        if dy[-1] == 0:\n",
    "\n",
    "            nonzero_index = (dy != 0).nonzero()\n",
    "            if dy[nonzero_index[0][-1]] < 0:\n",
    "                index = index[0:-2]\n",
    "\n",
    "    # Get the values that are at the start of plateaus, or are peaks\n",
    "    index_v = np.append([0], np.diff(index))\n",
    "    index = np.compress(index_v != 1, index)\n",
    "\n",
    "    return index"
   ]
  },
  {
   "cell_type": "code",
   "execution_count": null,
   "metadata": {},
   "outputs": [],
   "source": []
  }
 ],
 "metadata": {
  "kernelspec": {
   "display_name": "Python 3",
   "language": "python",
   "name": "python3"
  },
  "language_info": {
   "codemirror_mode": {
    "name": "ipython",
    "version": 3
   },
   "file_extension": ".py",
   "mimetype": "text/x-python",
   "name": "python",
   "nbconvert_exporter": "python",
   "pygments_lexer": "ipython3",
   "version": "3.6.6"
  }
 },
 "nbformat": 4,
 "nbformat_minor": 2
}
